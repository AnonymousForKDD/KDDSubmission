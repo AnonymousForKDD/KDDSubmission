{
 "cells": [
  {
   "cell_type": "markdown",
   "metadata": {},
   "source": [
    "## Get all imports"
   ]
  },
  {
   "cell_type": "code",
   "execution_count": 1,
   "metadata": {},
   "outputs": [],
   "source": [
    "import math\n",
    "import numpy as np\n",
    "import pandas as pd\n",
    "from collections import Counter\n",
    "from PPFS import PPIMBR\n",
    "from sklearn.tree import DecisionTreeRegressor\n",
    "from lightgbm import LGBMRegressor\n",
    "from sklearn.metrics import mean_squared_error\n",
    "from sklearn.model_selection import KFold, StratifiedKFold\n",
    "import warnings\n",
    "warnings.filterwarnings(\"ignore\")"
   ]
  },
  {
   "cell_type": "markdown",
   "metadata": {},
   "source": [
    "## Load data"
   ]
  },
  {
   "cell_type": "code",
   "execution_count": 2,
   "metadata": {},
   "outputs": [
    {
     "data": {
      "text/html": [
       "<div>\n",
       "<style scoped>\n",
       "    .dataframe tbody tr th:only-of-type {\n",
       "        vertical-align: middle;\n",
       "    }\n",
       "\n",
       "    .dataframe tbody tr th {\n",
       "        vertical-align: top;\n",
       "    }\n",
       "\n",
       "    .dataframe thead th {\n",
       "        text-align: right;\n",
       "    }\n",
       "</style>\n",
       "<table border=\"1\" class=\"dataframe\">\n",
       "  <thead>\n",
       "    <tr style=\"text-align: right;\">\n",
       "      <th></th>\n",
       "      <th>Project</th>\n",
       "      <th>TeamExp</th>\n",
       "      <th>ManagerExp</th>\n",
       "      <th>YearEnd</th>\n",
       "      <th>Length</th>\n",
       "      <th>Effort</th>\n",
       "      <th>Transactions</th>\n",
       "      <th>Entities</th>\n",
       "      <th>PointsNonAdjust</th>\n",
       "      <th>Adjustment</th>\n",
       "      <th>PointsAjust</th>\n",
       "      <th>Language</th>\n",
       "    </tr>\n",
       "  </thead>\n",
       "  <tbody>\n",
       "    <tr>\n",
       "      <th>0</th>\n",
       "      <td>1</td>\n",
       "      <td>1</td>\n",
       "      <td>4</td>\n",
       "      <td>85</td>\n",
       "      <td>12</td>\n",
       "      <td>5152</td>\n",
       "      <td>253</td>\n",
       "      <td>52</td>\n",
       "      <td>305</td>\n",
       "      <td>34</td>\n",
       "      <td>302</td>\n",
       "      <td>1</td>\n",
       "    </tr>\n",
       "    <tr>\n",
       "      <th>1</th>\n",
       "      <td>2</td>\n",
       "      <td>0</td>\n",
       "      <td>0</td>\n",
       "      <td>86</td>\n",
       "      <td>4</td>\n",
       "      <td>5635</td>\n",
       "      <td>197</td>\n",
       "      <td>124</td>\n",
       "      <td>321</td>\n",
       "      <td>33</td>\n",
       "      <td>315</td>\n",
       "      <td>1</td>\n",
       "    </tr>\n",
       "    <tr>\n",
       "      <th>2</th>\n",
       "      <td>3</td>\n",
       "      <td>4</td>\n",
       "      <td>4</td>\n",
       "      <td>85</td>\n",
       "      <td>1</td>\n",
       "      <td>805</td>\n",
       "      <td>40</td>\n",
       "      <td>60</td>\n",
       "      <td>100</td>\n",
       "      <td>18</td>\n",
       "      <td>83</td>\n",
       "      <td>1</td>\n",
       "    </tr>\n",
       "    <tr>\n",
       "      <th>3</th>\n",
       "      <td>4</td>\n",
       "      <td>0</td>\n",
       "      <td>0</td>\n",
       "      <td>86</td>\n",
       "      <td>5</td>\n",
       "      <td>3829</td>\n",
       "      <td>200</td>\n",
       "      <td>119</td>\n",
       "      <td>319</td>\n",
       "      <td>30</td>\n",
       "      <td>303</td>\n",
       "      <td>1</td>\n",
       "    </tr>\n",
       "    <tr>\n",
       "      <th>4</th>\n",
       "      <td>5</td>\n",
       "      <td>0</td>\n",
       "      <td>0</td>\n",
       "      <td>86</td>\n",
       "      <td>4</td>\n",
       "      <td>2149</td>\n",
       "      <td>140</td>\n",
       "      <td>94</td>\n",
       "      <td>234</td>\n",
       "      <td>24</td>\n",
       "      <td>208</td>\n",
       "      <td>1</td>\n",
       "    </tr>\n",
       "  </tbody>\n",
       "</table>\n",
       "</div>"
      ],
      "text/plain": [
       "   Project  TeamExp  ManagerExp  YearEnd  Length  Effort  Transactions  \\\n",
       "0        1        1           4       85      12    5152           253   \n",
       "1        2        0           0       86       4    5635           197   \n",
       "2        3        4           4       85       1     805            40   \n",
       "3        4        0           0       86       5    3829           200   \n",
       "4        5        0           0       86       4    2149           140   \n",
       "\n",
       "   Entities  PointsNonAdjust  Adjustment  PointsAjust  Language  \n",
       "0        52              305          34          302         1  \n",
       "1       124              321          33          315         1  \n",
       "2        60              100          18           83         1  \n",
       "3       119              319          30          303         1  \n",
       "4        94              234          24          208         1  "
      ]
     },
     "metadata": {},
     "output_type": "display_data"
    },
    {
     "name": "stdout",
     "output_type": "stream",
     "text": [
      "Data shape:  (81, 11) Target Variable shape:  (81,)\n"
     ]
    }
   ],
   "source": [
    "data = pd.read_csv(\"../data/desharnais/desharnais.csv\")\n",
    "data = data.drop([\"id\"], axis=1)\n",
    "display(data.head())\n",
    "data, Y = data.drop([\"Effort\"], axis=1), data[\"Effort\"].values\n",
    "\n",
    "print(\"Data shape: \", data.shape, \"Target Variable shape: \", Y.shape)"
   ]
  },
  {
   "cell_type": "markdown",
   "metadata": {},
   "source": [
    "## InnerCv for DecisionTree"
   ]
  },
  {
   "cell_type": "code",
   "execution_count": 3,
   "metadata": {},
   "outputs": [],
   "source": [
    "def inner_cv_dt(X, Y):\n",
    "    kfold = KFold(n_splits=5, random_state=27, shuffle=True)\n",
    "    scores = list()\n",
    "    for train, test in kfold.split(X):\n",
    "        x_train, x_test = X[train], X[test]\n",
    "        y_train, y_test = Y[train], Y[test]\n",
    "        \n",
    "        scaler = StandardScaler()\n",
    "        x_train = scaler.fit_transform(x_train)\n",
    "        x_test = scaler.transform(x_test)\n",
    "        \n",
    "        model = SVC(random_state=27)\n",
    "        model.fit(x_train, y_train)\n",
    "        preds = model.predict(x_test)\n",
    "        score = accuracy_score(y_test, preds)\n",
    "        scores.append(score)\n",
    "    return sum(scores)/len(scores)"
   ]
  },
  {
   "cell_type": "markdown",
   "metadata": {},
   "source": [
    "## Check score with DecisionTree"
   ]
  },
  {
   "cell_type": "code",
   "execution_count": 45,
   "metadata": {
    "scrolled": true
   },
   "outputs": [
    {
     "name": "stdout",
     "output_type": "stream",
     "text": [
      " 4\n",
      "Score:  3262.277885159386\n",
      " 4\n",
      "Score:  3842.0535931321924\n",
      " 5\n",
      "Score:  2347.015551716689\n",
      " 3\n",
      "Score:  1919.2361761909374\n",
      " 4\n",
      "Score:  2292.313882848507\n",
      "\n",
      "\n",
      "Average Prediction Error:  2732.579417809543\n"
     ]
    }
   ],
   "source": [
    "# 5 Fold cross validation\n",
    "kfold = KFold(n_splits=5, random_state=27, shuffle=True)\n",
    "# A variable to log all the scores\n",
    "scores = list()\n",
    "# Run CV\n",
    "for index, (train, test) in enumerate(kfold.split(data)):\n",
    "    # Get the data\n",
    "    x_train, x_test = data.iloc[train], data.iloc[test]\n",
    "    y_train, y_test = Y[train], Y[test]\n",
    "    \n",
    "    # Scale the input and output.\n",
    "    # Predictions will be made on down-scaled output and then upscaled for metric calculation\n",
    "    scaler = StandardScaler()\n",
    "    x_train = pd.DataFrame(scaler.fit_transform(x_train.values), columns=x_train.columns, index=x_train.index)\n",
    "    x_test = pd.DataFrame(scaler.transform(x_test.values), columns=x_test.columns, index=x_test.index)\n",
    "    y_train = np.log(y_train)\n",
    "    \n",
    "    # Create an object of the proposed algorithm. We can use any model here\n",
    "    model = PPIMBR(model=LGBMRegressor(random_state=27), p_val_thresh=0.05, verbose=0, random_state=27, num_simul=50, cv=0, simul_size=0.1, sig_test_type=\"non-parametric\")\n",
    "    # Let the algorithm find the best features. This is done only on the train fold\n",
    "    x_train = model.fit_transform(x_train, y_train)\n",
    "    # Prune the dataset in feature space\n",
    "    x_test = model.transform(x_test)\n",
    "    # Check out the size of the markov blanket (optimal set of features)\n",
    "    print(\"Markov Blanket: \", len(model.MB))\n",
    "    x_train, x_test = x_train.values, x_test.values\n",
    "\n",
    "    # Now use the features to train a decision tree\n",
    "    model = DecisionTreeRegressor(random_state=27)\n",
    "    model.fit(x_train, y_train)\n",
    "    preds = model.predict(x_test)\n",
    "    score = np.sqrt(mean_squared_error(y_test, np.exp(preds)))\n",
    "    scores.append(score)\n",
    "    print(\"Score: \", score)\n",
    "print(\"\\n\\nAverage Prediction Error: \", sum(scores)/len(scores))"
   ]
  },
  {
   "cell_type": "code",
   "execution_count": 5,
   "metadata": {},
   "outputs": [],
   "source": [
    "# Average Prediction Error:  2732.579417809543"
   ]
  }
 ],
 "metadata": {
  "kernelspec": {
   "display_name": "Python 3 (ipykernel)",
   "language": "python",
   "name": "python3"
  },
  "language_info": {
   "codemirror_mode": {
    "name": "ipython",
    "version": 3
   },
   "file_extension": ".py",
   "mimetype": "text/x-python",
   "name": "python",
   "nbconvert_exporter": "python",
   "pygments_lexer": "ipython3",
   "version": "3.8.12"
  }
 },
 "nbformat": 4,
 "nbformat_minor": 4
}

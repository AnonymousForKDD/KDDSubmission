{
 "cells": [
  {
   "cell_type": "markdown",
   "metadata": {},
   "source": [
    "## Get all imports"
   ]
  },
  {
   "cell_type": "code",
   "execution_count": 1,
   "metadata": {},
   "outputs": [],
   "source": [
    "import math\n",
    "import numpy as np\n",
    "import pandas as pd\n",
    "from collections import Counter\n",
    "from PPFS import PPIMBC\n",
    "from sklearn.svm import LinearSVC, SVC\n",
    "from sklearn.tree import DecisionTreeClassifier\n",
    "from sklearn.linear_model import LogisticRegression\n",
    "from sklearn.metrics import accuracy_score\n",
    "from sklearn.model_selection import KFold, StratifiedKFold\n",
    "from sklearn.preprocessing import StandardScaler, OneHotEncoder\n",
    "import warnings\n",
    "warnings.filterwarnings(\"ignore\")"
   ]
  },
  {
   "cell_type": "markdown",
   "metadata": {},
   "source": [
    "## Load data"
   ]
  },
  {
   "cell_type": "code",
   "execution_count": 2,
   "metadata": {},
   "outputs": [
    {
     "data": {
      "text/html": [
       "<div>\n",
       "<style scoped>\n",
       "    .dataframe tbody tr th:only-of-type {\n",
       "        vertical-align: middle;\n",
       "    }\n",
       "\n",
       "    .dataframe tbody tr th {\n",
       "        vertical-align: top;\n",
       "    }\n",
       "\n",
       "    .dataframe thead th {\n",
       "        text-align: right;\n",
       "    }\n",
       "</style>\n",
       "<table border=\"1\" class=\"dataframe\">\n",
       "  <thead>\n",
       "    <tr style=\"text-align: right;\">\n",
       "      <th></th>\n",
       "      <th>1</th>\n",
       "      <th>2</th>\n",
       "      <th>3</th>\n",
       "      <th>4</th>\n",
       "      <th>5</th>\n",
       "      <th>6</th>\n",
       "      <th>7</th>\n",
       "      <th>8</th>\n",
       "    </tr>\n",
       "  </thead>\n",
       "  <tbody>\n",
       "    <tr>\n",
       "      <th>0</th>\n",
       "      <td>0.49</td>\n",
       "      <td>0.29</td>\n",
       "      <td>0.48</td>\n",
       "      <td>0.5</td>\n",
       "      <td>0.56</td>\n",
       "      <td>0.24</td>\n",
       "      <td>0.35</td>\n",
       "      <td>3</td>\n",
       "    </tr>\n",
       "    <tr>\n",
       "      <th>1</th>\n",
       "      <td>0.07</td>\n",
       "      <td>0.40</td>\n",
       "      <td>0.48</td>\n",
       "      <td>0.5</td>\n",
       "      <td>0.54</td>\n",
       "      <td>0.35</td>\n",
       "      <td>0.44</td>\n",
       "      <td>3</td>\n",
       "    </tr>\n",
       "    <tr>\n",
       "      <th>2</th>\n",
       "      <td>0.56</td>\n",
       "      <td>0.40</td>\n",
       "      <td>0.48</td>\n",
       "      <td>0.5</td>\n",
       "      <td>0.49</td>\n",
       "      <td>0.37</td>\n",
       "      <td>0.46</td>\n",
       "      <td>3</td>\n",
       "    </tr>\n",
       "    <tr>\n",
       "      <th>3</th>\n",
       "      <td>0.59</td>\n",
       "      <td>0.49</td>\n",
       "      <td>0.48</td>\n",
       "      <td>0.5</td>\n",
       "      <td>0.52</td>\n",
       "      <td>0.45</td>\n",
       "      <td>0.36</td>\n",
       "      <td>3</td>\n",
       "    </tr>\n",
       "    <tr>\n",
       "      <th>4</th>\n",
       "      <td>0.23</td>\n",
       "      <td>0.32</td>\n",
       "      <td>0.48</td>\n",
       "      <td>0.5</td>\n",
       "      <td>0.55</td>\n",
       "      <td>0.25</td>\n",
       "      <td>0.35</td>\n",
       "      <td>3</td>\n",
       "    </tr>\n",
       "  </tbody>\n",
       "</table>\n",
       "</div>"
      ],
      "text/plain": [
       "      1     2     3    4     5     6     7  8\n",
       "0  0.49  0.29  0.48  0.5  0.56  0.24  0.35  3\n",
       "1  0.07  0.40  0.48  0.5  0.54  0.35  0.44  3\n",
       "2  0.56  0.40  0.48  0.5  0.49  0.37  0.46  3\n",
       "3  0.59  0.49  0.48  0.5  0.52  0.45  0.36  3\n",
       "4  0.23  0.32  0.48  0.5  0.55  0.25  0.35  3"
      ]
     },
     "metadata": {},
     "output_type": "display_data"
    },
    {
     "name": "stdout",
     "output_type": "stream",
     "text": [
      "Data shape:  (336, 7) Target Variable shape:  (336,)\n"
     ]
    }
   ],
   "source": [
    "# Load the data into pandas dataframe\n",
    "df = pd.read_csv(\"../data/ecoli/ecoli.data\", header=None)\n",
    "# The first column is indices. We do not need this\n",
    "df = df.drop([0], axis=1)\n",
    "# Replace characters with integers\n",
    "for index, i in enumerate(['imS', 'imL', 'imU', 'cp', 'im', 'omL', 'om', 'pp']):\n",
    "    df[8] = df[8].str.replace(i, str(index))\n",
    "df[8] = df[8].apply(pd.to_numeric)\n",
    "# Check out the data\n",
    "display(df.head())\n",
    "# Get the data and the labels\n",
    "data, Y = df.drop([8], axis=1), df[8].values\n",
    "labels = [0,1,2,3,4,5,6,7]\n",
    "print(\"Data shape: \", data.shape, \"Target Variable shape: \", Y.shape)"
   ]
  },
  {
   "cell_type": "markdown",
   "metadata": {},
   "source": [
    "## Inner CV for DecisionTree"
   ]
  },
  {
   "cell_type": "code",
   "execution_count": 3,
   "metadata": {},
   "outputs": [],
   "source": [
    "# This function is used to find the best hyper-parameters for a decision tree model\n",
    "def inner_cv_dt(X, Y):\n",
    "    kfold = KFold(n_splits=5, random_state=27, shuffle=True)\n",
    "    scores = list()\n",
    "    for train, test in kfold.split(X):\n",
    "        x_train, x_test = X[train], X[test]\n",
    "        y_train, y_test = Y[train], Y[test]\n",
    "        \n",
    "        model = DecisionTreeClassifier(random_state=27)\n",
    "        model.fit(x_train, y_train)\n",
    "        preds = model.predict(x_test)\n",
    "        score = accuracy_score(y_test, preds)\n",
    "        scores.append(score)\n",
    "    return sum(scores)/len(scores)"
   ]
  },
  {
   "cell_type": "markdown",
   "metadata": {},
   "source": [
    "## Inner CV for SVM"
   ]
  },
  {
   "cell_type": "code",
   "execution_count": 4,
   "metadata": {},
   "outputs": [],
   "source": [
    "# This function is used to find the best hyper-parameters for a SVM model\n",
    "def inner_cv_svm(X, Y):\n",
    "    kfold = KFold(n_splits=5, random_state=27, shuffle=True)\n",
    "    scores = list()\n",
    "    for train, test in kfold.split(X):\n",
    "        x_train, x_test = X[train], X[test]\n",
    "        y_train, y_test = Y[train], Y[test]\n",
    "        \n",
    "        scaler = StandardScaler()\n",
    "        x_train = scaler.fit_transform(x_train)\n",
    "        x_test = scaler.transform(x_test)\n",
    "        \n",
    "        model = SVC(random_state=27)\n",
    "        model.fit(x_train, y_train)\n",
    "        preds = model.predict(x_test)\n",
    "        score = accuracy_score(y_test, preds)\n",
    "        scores.append(score)\n",
    "    return sum(scores)/len(scores)"
   ]
  },
  {
   "cell_type": "markdown",
   "metadata": {},
   "source": [
    "## Check score with decision tree"
   ]
  },
  {
   "cell_type": "code",
   "execution_count": 9,
   "metadata": {
    "scrolled": true
   },
   "outputs": [
    {
     "name": "stdout",
     "output_type": "stream",
     "text": [
      "Markov Blanket:  6\n",
      "Score:  0.7941176470588235 \n",
      "\n",
      "Markov Blanket:  6\n",
      "Score:  0.835820895522388 \n",
      "\n",
      "Markov Blanket:  6\n",
      "Score:  0.835820895522388 \n",
      "\n",
      "Markov Blanket:  6\n",
      "Score:  0.8059701492537313 \n",
      "\n",
      "Markov Blanket:  5\n",
      "Score:  0.835820895522388 \n",
      "\n",
      "\n",
      "\n",
      "Average Accuracy:  0.822\n"
     ]
    }
   ],
   "source": [
    "# 5 Fold cross validation\n",
    "kfold = StratifiedKFold(n_splits=5, random_state=27, shuffle=True)\n",
    "# A variable to log all the scores\n",
    "scores = list()\n",
    "# Run CV\n",
    "for index, (train, test) in enumerate(kfold.split(data, Y)):\n",
    "    # Get the data\n",
    "    x_train, x_test = data.iloc[train], data.iloc[test]\n",
    "    y_train, y_test = Y[train], Y[test]\n",
    "    \n",
    "    # Create an object of the proposed algorithm\n",
    "    model = PPIMBC(model=DecisionTreeClassifier(random_state=27, class_weight=\"balanced\"), p_val_thresh=0.05, cv=0, num_simul=15, verbose=0, simul_type=0, simul_size=0.2, sig_test_type=\"non-parametric\")\n",
    "    # Let the algorithm find the best features. This is done only on the train fold\n",
    "    x_train = model.fit_transform(x_train, y_train)\n",
    "    # Prune the dataset in feature space\n",
    "    x_test = model.transform(x_test)\n",
    "    # Check out the size of the markov blanket (optimal set of features)\n",
    "    print(\"Markov Blanket: \", len(model.MB))\n",
    "    x_train, x_test = x_train.values, x_test.values\n",
    "    \n",
    "    # Now use the features to train a decision tree\n",
    "    model = DecisionTreeClassifier(random_state=27)\n",
    "    model.fit(x_train, y_train)\n",
    "    preds = model.predict(x_test)\n",
    "    score = accuracy_score(y_test, preds)\n",
    "    scores.append(score)\n",
    "    print(\"Score: \", score, \"\\n\")\n",
    "\n",
    "# Final accuracy of the CV\n",
    "print(\"\\n\\nAverage Accuracy: \", round(sum(scores)/len(scores), 3))"
   ]
  },
  {
   "cell_type": "markdown",
   "metadata": {},
   "source": [
    "## Check score with svm"
   ]
  },
  {
   "cell_type": "code",
   "execution_count": 8,
   "metadata": {},
   "outputs": [
    {
     "name": "stdout",
     "output_type": "stream",
     "text": [
      "Markov Blanket:  6\n",
      "Score:  0.8970588235294118 \n",
      "\n",
      "Markov Blanket:  6\n",
      "Score:  0.8955223880597015 \n",
      "\n",
      "Markov Blanket:  6\n",
      "Score:  0.8507462686567164 \n",
      "\n",
      "Markov Blanket:  6\n",
      "Score:  0.835820895522388 \n",
      "\n",
      "Markov Blanket:  6\n",
      "Score:  0.8955223880597015 \n",
      "\n",
      "\n",
      "\n",
      "Average Accuracy:  0.875\n"
     ]
    }
   ],
   "source": [
    "# 5 Fold cross validation\n",
    "kfold = KFold(n_splits=5, random_state=0, shuffle=True)\n",
    "# A variable to log all the scores\n",
    "scores = list()\n",
    "for index, (train, test) in enumerate(kfold.split(data)):\n",
    "    # Get the data\n",
    "    x_train, x_test = data.iloc[train], data.iloc[test]\n",
    "    y_train, y_test = Y[train], Y[test]   \n",
    "    \n",
    "    # SVM requires scaled input\n",
    "    scaler = StandardScaler()\n",
    "    x_train = pd.DataFrame(scaler.fit_transform(x_train.values), columns=x_train.columns, index=x_train.index)\n",
    "    x_test = pd.DataFrame(scaler.transform(x_test.values), columns=x_test.columns, index=x_test.index)\n",
    "    \n",
    "    # Create an object of the proposed algorithm\n",
    "    model = PPIMBC(model=DecisionTreeClassifier(random_state=27, class_weight=\"balanced\"), p_val_thresh=0.05, cv=0, num_simul=30, verbose=0, simul_type=0, simul_size=0.2, sig_test_type=\"non-parametric\")\n",
    "    # Let the algorithm find the best features. This is done only on the train fold\n",
    "    x_train = model.fit_transform(x_train, y_train)\n",
    "    # Prune the dataset in feature space\n",
    "    x_test = model.transform(x_test)\n",
    "    print(\"Markov Blanket: \", len(model.MB))\n",
    "    # Check out the size of the markov blanket (optimal set of features)\n",
    "    x_train, x_test = x_train.values, x_test.values\n",
    "    \n",
    "    # Now use the features to train a SVM\n",
    "    model = LinearSVC(random_state=27)\n",
    "    model.fit(x_train, y_train)\n",
    "    preds = model.predict(x_test)\n",
    "    score = accuracy_score(y_test, preds)\n",
    "    scores.append(score)\n",
    "    print(\"Score: \", score, \"\\n\")\n",
    "print(\"\\n\\nAverage Accuracy: \", round(sum(scores)/len(scores), 3))"
   ]
  },
  {
   "cell_type": "code",
   "execution_count": null,
   "metadata": {},
   "outputs": [],
   "source": []
  }
 ],
 "metadata": {
  "kernelspec": {
   "display_name": "Python 3 (ipykernel)",
   "language": "python",
   "name": "python3"
  },
  "language_info": {
   "codemirror_mode": {
    "name": "ipython",
    "version": 3
   },
   "file_extension": ".py",
   "mimetype": "text/x-python",
   "name": "python",
   "nbconvert_exporter": "python",
   "pygments_lexer": "ipython3",
   "version": "3.8.12"
  }
 },
 "nbformat": 4,
 "nbformat_minor": 4
}
